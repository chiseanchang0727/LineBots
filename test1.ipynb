{
 "cells": [
  {
   "cell_type": "code",
   "execution_count": 9,
   "metadata": {},
   "outputs": [],
   "source": [
    "from flask import Flask, request, abort\n",
    "from linebot import LineBotApi, WebhookHandler\n",
    "from linebot.exceptions import InvalidSignatureError\n",
    "from linebot.models import MessageEvent, TextMessage, TextSendMessage\n",
    "import json"
   ]
  },
  {
   "cell_type": "code",
   "execution_count": 14,
   "metadata": {},
   "outputs": [],
   "source": [
    "import sqlite3"
   ]
  },
  {
   "cell_type": "code",
   "execution_count": 11,
   "metadata": {},
   "outputs": [],
   "source": [
    "with open('./configs.json') as file:\n",
    "    configs = json.load(file)"
   ]
  },
  {
   "cell_type": "code",
   "execution_count": 13,
   "metadata": {},
   "outputs": [],
   "source": [
    "line_bot_api = configs['channel_access_token']\n",
    "handler = configs['channel_secret']"
   ]
  },
  {
   "cell_type": "code",
   "execution_count": 29,
   "metadata": {},
   "outputs": [],
   "source": [
    "conn = sqlite3.connect('line_bot.db')"
   ]
  },
  {
   "cell_type": "code",
   "execution_count": 40,
   "metadata": {},
   "outputs": [],
   "source": [
    "def execute_sql(sql, params=None):\n",
    "    conn = sqlite3.connect('line_bot.db')\n",
    "    c = conn.cursor()\n",
    "    try:\n",
    "        if params:\n",
    "            c.execute(sql, params)\n",
    "        else:\n",
    "            c.execute(sql)\n",
    "        conn.commit()\n",
    "    except sqlite3.OperationalError as e:\n",
    "        print(\"SQL Error:\", e)\n",
    "        print(\"Failed SQL:\", sql)\n",
    "    finally:\n",
    "        conn.close()"
   ]
  },
  {
   "cell_type": "code",
   "execution_count": 41,
   "metadata": {},
   "outputs": [],
   "source": [
    "sql = \"\"\"CREATE TABLE IF NOT EXISTS subpoena\n",
    "                (user_send TEXT, msg_content TEXT, tagged_user TEXT)\"\"\"\n",
    "execute_sql(sql=sql)"
   ]
  },
  {
   "cell_type": "code",
   "execution_count": 45,
   "metadata": {},
   "outputs": [],
   "source": [
    "sql = \"\"\"select * from subpoena\"\"\"\n",
    "execute_sql(sql=sql)    "
   ]
  },
  {
   "cell_type": "code",
   "execution_count": 44,
   "metadata": {},
   "outputs": [],
   "source": [
    "import sqlite3\n",
    "\n",
    "def execute_sql(sql, params=None):\n",
    "    conn = sqlite3.connect('line_bot.db')\n",
    "    c = conn.cursor()\n",
    "    try:\n",
    "        if params:\n",
    "            c.execute(sql, params)\n",
    "        else:\n",
    "            c.execute(sql)\n",
    "        conn.commit()\n",
    "    except sqlite3.OperationalError as e:\n",
    "        print(\"SQL Error:\", e)\n",
    "        print(\"Failed SQL:\", sql)\n",
    "    finally:\n",
    "        conn.close()\n",
    "\n",
    "sql = \"\"\"CREATE TABLE IF NOT EXISTS subpoena\n",
    "                (user_send TEXT, msg_content TEXT, tagged_user TEXT)\"\"\"\n",
    "execute_sql(sql)\n",
    "\n",
    "# Example usage of the execute_sql function with parameters\n",
    "sql_insert = \"INSERT INTO subpoena (user_send, msg_content, tagged_user) VALUES (?, ?, ?)\"\n",
    "execute_sql(sql_insert, ('巴巴', '你說什麼', '剎那'))\n"
   ]
  },
  {
   "cell_type": "code",
   "execution_count": 47,
   "metadata": {},
   "outputs": [
    {
     "name": "stdout",
     "output_type": "stream",
     "text": [
      "('巴巴', 'RRR', '剎那')\n"
     ]
    }
   ],
   "source": [
    "import sqlite3\n",
    "\n",
    "def view_table_content(table_name):\n",
    "    # Connect to the SQLite database\n",
    "    conn = sqlite3.connect('line_bot.db')\n",
    "    c = conn.cursor()\n",
    "    \n",
    "    # Prepare a SQL query to fetch all data from the specified table\n",
    "    query = f\"SELECT * FROM {table_name};\"\n",
    "    \n",
    "    try:\n",
    "        c.execute(query)\n",
    "        rows = c.fetchall()\n",
    "        for row in rows:\n",
    "            print(row)\n",
    "    except sqlite3.Error as e:\n",
    "        print(f\"An error occurred: {e}\")\n",
    "    finally:\n",
    "        conn.close()\n",
    "\n",
    "# Example usage: Display contents of the 'subpoena' table\n",
    "view_table_content('subpoena')\n"
   ]
  },
  {
   "cell_type": "code",
   "execution_count": 48,
   "metadata": {},
   "outputs": [
    {
     "name": "stdout",
     "output_type": "stream",
     "text": [
      "Column Names: ['user_send', 'msg_content', 'tagged_user']\n",
      "('巴巴', 'RRR', '剎那')\n"
     ]
    }
   ],
   "source": [
    "def view_table_content_with_headers(table_name):\n",
    "    conn = sqlite3.connect('line_bot.db')\n",
    "    c = conn.cursor()\n",
    "    \n",
    "    try:\n",
    "        c.execute(f\"PRAGMA table_info({table_name});\")\n",
    "        columns = [description[1] for description in c.fetchall()]\n",
    "        print(\"Column Names:\", columns)\n",
    "\n",
    "        c.execute(f\"SELECT * FROM {table_name};\")\n",
    "        rows = c.fetchall()\n",
    "        for row in rows:\n",
    "            print(row)\n",
    "    except sqlite3.Error as e:\n",
    "        print(f\"An error occurred: {e}\")\n",
    "    finally:\n",
    "        conn.close()\n",
    "\n",
    "# Example usage: Display contents of the 'subpoena' table\n",
    "view_table_content_with_headers('subpoena')\n"
   ]
  }
 ],
 "metadata": {
  "kernelspec": {
   "display_name": "linebot",
   "language": "python",
   "name": "python3"
  },
  "language_info": {
   "codemirror_mode": {
    "name": "ipython",
    "version": 3
   },
   "file_extension": ".py",
   "mimetype": "text/x-python",
   "name": "python",
   "nbconvert_exporter": "python",
   "pygments_lexer": "ipython3",
   "version": "3.10.14"
  }
 },
 "nbformat": 4,
 "nbformat_minor": 2
}
